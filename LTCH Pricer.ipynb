{
 "cells": [
  {
   "cell_type": "markdown",
   "metadata": {},
   "source": [
    "# LTCH Pricer Program <font color = red> - CARES Act Exception </font>\n",
    "----------------\n",
    "## <font color = blue>Preparation Steps</font> \n",
    "\n",
    "**<font color = blue>Preparation Step 1-</font>** The first step of the program imports the necessary Python packages. It also creates a custom function that is used throughout the program to round values in a way that is more consistent with SAS and Excel. In addition two empty dictionaries are created for storing calculated variables and calculation summary statements."
   ]
  },
  {
   "cell_type": "code",
   "execution_count": 541,
   "metadata": {},
   "outputs": [
    {
     "name": "stdout",
     "output_type": "stream",
     "text": [
      "Select a valid case number: 5\n"
     ]
    }
   ],
   "source": [
    "import pandas as pd\n",
    "import datetime\n",
    "import math\n",
    "\n",
    "def sasround(n, decimals=0):\n",
    "    multiplier = 10 ** decimals\n",
    "    step1=math.floor(abs(n)*multiplier + 0.5) / multiplier\n",
    "    return math.copysign(step1,n)\n",
    "\n",
    "case_number=int(input('Select a valid case number: '))\n",
    "calculations={}\n",
    "summary={}"
   ]
  },
  {
   "cell_type": "markdown",
   "metadata": {},
   "source": [
    "**<font color = blue>Preparation Step 2-</font>** Underlying rate values and factors established during the FY2020 Final Rule are read into the program and stored in a Python dictionary."
   ]
  },
  {
   "cell_type": "code",
   "execution_count": 542,
   "metadata": {},
   "outputs": [
    {
     "data": {
      "text/plain": [
       "{'Full Standard Rate': 42677.64,\n",
       " 'Reduced Standard Rate': 41844.9,\n",
       " 'Labor Share': 66.3,\n",
       " 'Non Labor Share': 33.7,\n",
       " 'Standard Fixed Loss': 26778.0,\n",
       " 'SN Fixed Loss': 26552.0,\n",
       " 'SN HCO BN factor': 0.949,\n",
       " 'SN IPPS Adjustment': 0.954,\n",
       " 'IPPS Operating Labor Rate High': 3959.1,\n",
       " 'IPPS Operating Non-Labor Rate High': 1837.53,\n",
       " 'IPPS Operating Labor Rate Low': 3593.91,\n",
       " 'IPPS Operating Non-Labor Rate Low': 2202.7200000000003,\n",
       " 'IPPS Capital Rate': 462.33,\n",
       " 'IPPS UCP Reduction Factor': 0.7536}"
      ]
     },
     "execution_count": 542,
     "metadata": {},
     "output_type": "execute_result"
    }
   ],
   "source": [
    "rates=pd.read_excel('Inputs.xlsx', sheet_name='Rates', index_col='Variable', squeeze=True).to_dict()\n",
    "rates"
   ]
  },
  {
   "cell_type": "markdown",
   "metadata": {},
   "source": [
    "**<font color = blue>Preparation Step 3-</font>** The FY2020 LTCH wage index for each CBSA is read into the program and stored in a Pandas dataframe. See sample."
   ]
  },
  {
   "cell_type": "code",
   "execution_count": 543,
   "metadata": {},
   "outputs": [
    {
     "data": {
      "text/html": [
       "<div>\n",
       "<style scoped>\n",
       "    .dataframe tbody tr th:only-of-type {\n",
       "        vertical-align: middle;\n",
       "    }\n",
       "\n",
       "    .dataframe tbody tr th {\n",
       "        vertical-align: top;\n",
       "    }\n",
       "\n",
       "    .dataframe thead th {\n",
       "        text-align: right;\n",
       "    }\n",
       "</style>\n",
       "<table border=\"1\" class=\"dataframe\">\n",
       "  <thead>\n",
       "    <tr style=\"text-align: right;\">\n",
       "      <th></th>\n",
       "      <th>CBSA_Title</th>\n",
       "      <th>Wage_Index</th>\n",
       "    </tr>\n",
       "    <tr>\n",
       "      <th>CBSA_Code</th>\n",
       "      <th></th>\n",
       "      <th></th>\n",
       "    </tr>\n",
       "  </thead>\n",
       "  <tbody>\n",
       "    <tr>\n",
       "      <td>30780</td>\n",
       "      <td>Little Rock-North Little Rock-Conway, AR</td>\n",
       "      <td>0.8020</td>\n",
       "    </tr>\n",
       "    <tr>\n",
       "      <td>25420</td>\n",
       "      <td>Harrisburg-Carlisle, PA</td>\n",
       "      <td>0.9572</td>\n",
       "    </tr>\n",
       "  </tbody>\n",
       "</table>\n",
       "</div>"
      ],
      "text/plain": [
       "                                         CBSA_Title  Wage_Index\n",
       "CBSA_Code                                                      \n",
       "30780      Little Rock-North Little Rock-Conway, AR      0.8020\n",
       "25420                       Harrisburg-Carlisle, PA      0.9572"
      ]
     },
     "execution_count": 543,
     "metadata": {},
     "output_type": "execute_result"
    }
   ],
   "source": [
    "ltc_wage_index_df=pd.read_excel('Inputs.xlsx', sheet_name='LTC_Wage_Index',dtype={'CBSA_Code':object})\n",
    "ltc_wage_index_df.set_index('CBSA_Code', inplace=True)\n",
    "ltc_wage_index_df.sample(2)"
   ]
  },
  {
   "cell_type": "markdown",
   "metadata": {},
   "source": [
    "**<font color = blue>Preparation Step 4-</font>** The FY2020 IPPS wage index and GAF for each CBSA is read into the program and stored in a Pandas dataframe. See sample."
   ]
  },
  {
   "cell_type": "code",
   "execution_count": 544,
   "metadata": {},
   "outputs": [
    {
     "data": {
      "text/html": [
       "<div>\n",
       "<style scoped>\n",
       "    .dataframe tbody tr th:only-of-type {\n",
       "        vertical-align: middle;\n",
       "    }\n",
       "\n",
       "    .dataframe tbody tr th {\n",
       "        vertical-align: top;\n",
       "    }\n",
       "\n",
       "    .dataframe thead th {\n",
       "        text-align: right;\n",
       "    }\n",
       "</style>\n",
       "<table border=\"1\" class=\"dataframe\">\n",
       "  <thead>\n",
       "    <tr style=\"text-align: right;\">\n",
       "      <th></th>\n",
       "      <th>CBSA</th>\n",
       "      <th>Area_Name</th>\n",
       "      <th>ST</th>\n",
       "      <th>WI</th>\n",
       "      <th>GAF</th>\n",
       "    </tr>\n",
       "    <tr>\n",
       "      <th>CBSA+ST</th>\n",
       "      <th></th>\n",
       "      <th></th>\n",
       "      <th></th>\n",
       "      <th></th>\n",
       "      <th></th>\n",
       "    </tr>\n",
       "  </thead>\n",
       "  <tbody>\n",
       "    <tr>\n",
       "      <td>38940FL</td>\n",
       "      <td>38940</td>\n",
       "      <td>Port St. Lucie, FL</td>\n",
       "      <td>FL</td>\n",
       "      <td>0.9087</td>\n",
       "      <td>0.9365</td>\n",
       "    </tr>\n",
       "  </tbody>\n",
       "</table>\n",
       "</div>"
      ],
      "text/plain": [
       "          CBSA          Area_Name   ST      WI     GAF\n",
       "CBSA+ST                                               \n",
       "38940FL  38940  Port St. Lucie, FL  FL  0.9087  0.9365"
      ]
     },
     "execution_count": 544,
     "metadata": {},
     "output_type": "execute_result"
    }
   ],
   "source": [
    "ipps_wage_index_df=pd.read_excel('Inputs.xlsx', sheet_name='IPPS_Wage_Index', dtype={'CBSA':object})\n",
    "ipps_wage_index_df.set_index('CBSA+ST', inplace=True)\n",
    "ipps_wage_index_df.sample()"
   ]
  },
  {
   "cell_type": "markdown",
   "metadata": {},
   "source": [
    "**<font color = blue>Preparation Step 5-</font>** The FY2020 LTCH and IPPS DRG weights and average length of stays are read into the program and stored in a Pandas dataframe. See randomly selected DRG."
   ]
  },
  {
   "cell_type": "code",
   "execution_count": 545,
   "metadata": {},
   "outputs": [
    {
     "data": {
      "text/plain": [
       "MS-LTC-DRG_Title              Biopsies of musculoskeletal system & connectiv...\n",
       "FY2018_LTCH_Cases                                                             1\n",
       "LTC_Relative_Weight                                                      1.5478\n",
       "LTC_Geometric_Average_LOS                                                  33.6\n",
       "LTC_SSO_Threshold                                                            28\n",
       "IPPS_Relative_Weight                                                     2.3171\n",
       "IPPS_Geometric_Average_LOS                                                  5.3\n",
       "Name: 478, dtype: object"
      ]
     },
     "execution_count": 545,
     "metadata": {},
     "output_type": "execute_result"
    }
   ],
   "source": [
    "drg_df=pd.read_excel('Inputs.xlsx', sheet_name='DRGs', index_col='MS-LTC-DRG')\n",
    "drg_df.sample().squeeze()"
   ]
  },
  {
   "cell_type": "markdown",
   "metadata": {},
   "source": [
    "**<font color = blue>Preparation Step 6-</font>** The inputs related to a particular case are read into the program and stored in a Python dictionary."
   ]
  },
  {
   "cell_type": "code",
   "execution_count": 546,
   "metadata": {},
   "outputs": [
    {
     "data": {
      "text/plain": [
       "{'dpp_adjustment': False,\n",
       " 'blend': False,\n",
       " 'psch_rehab': False,\n",
       " 'ipps_claim': True,\n",
       " 'icu': False,\n",
       " 'ventilator': True,\n",
       " 'severe_wound': False,\n",
       " 'spinal_cord': False,\n",
       " 'state': 'AL',\n",
       " 'cbsa': '13820',\n",
       " 'cola': 1,\n",
       " 'discharge_date': Timestamp('2020-05-14 00:00:00'),\n",
       " 'LOS': 17,\n",
       " 'charges': 95000.0,\n",
       " 'ccr': 0.551,\n",
       " 'cost': 52345.00000000001,\n",
       " 'DRG': 70,\n",
       " 'quality_indicator': 1,\n",
       " 'ssi_pct': 0.0466,\n",
       " 'mcd_pct': 0.1074,\n",
       " 'ipps_residents_to_beds_ratio': 0.0,\n",
       " 'ipps_residents_to_adc_ratio': 0.0,\n",
       " 'beds': 89}"
      ]
     },
     "execution_count": 546,
     "metadata": {},
     "output_type": "execute_result"
    }
   ],
   "source": [
    "input_df=pd.read_excel('Inputs.xlsx', sheet_name='Case Inputs', dtype={'cbsa':object}, index_col='Case')\n",
    "inputs=input_df.iloc[case_number-1].to_dict()\n",
    "inputs"
   ]
  },
  {
   "cell_type": "markdown",
   "metadata": {},
   "source": [
    "____________\n",
    "## <font color = red>Processing Steps</font>\n",
    "**<font color = red>Processing Step 1-</font>** Logic is used to determine whether a case should be paid the *standard rate* or *site neutral rate*. Due to the **Covid-19 emergency**, all discharges from LTCH hospitals whose admissions date was on or after March 1, 2020 will be paid the standard rate. If the discharge took place prior to this date, only cases that meet the following conditions will be paid the standard rate:\n",
    "1. Benficiary had a severe wound or spinal cord injury \n",
    "2. Beneficiary was previously discharged from an IPPS hospital and either\n",
    "    1. spent 3 days in the ICU at the IPPS hospital or\n",
    "    2. spent 96 hours on a ventilator at the LTC hospital"
   ]
  },
  {
   "cell_type": "code",
   "execution_count": 547,
   "metadata": {},
   "outputs": [
    {
     "data": {
      "text/plain": [
       "{'admissions_date': Timestamp('2020-04-27 00:00:00'),\n",
       " 'valid_date': True,\n",
       " 'CARES Act Flag': True,\n",
       " 'payment_type': 'Standard',\n",
       " 'payment_code': 'CARES Act'}"
      ]
     },
     "execution_count": 547,
     "metadata": {},
     "output_type": "execute_result"
    }
   ],
   "source": [
    "calculations['admissions_date']=inputs['discharge_date']-datetime.timedelta(days=int(inputs['LOS']))\n",
    "if inputs['discharge_date']<datetime.datetime(2019, 10, 1) or inputs['discharge_date']>datetime.datetime(2020, 9, 30):\n",
    "    calculations['valid_date']=False\n",
    "    calculations['CARES Act Flag']=False\n",
    "else:\n",
    "    calculations['valid_date']=True\n",
    "    if calculations['admissions_date']>=datetime.datetime(2020, 3, 1):\n",
    "        calculations['CARES Act Flag']=True\n",
    "    else:\n",
    "        calculations['CARES Act Flag']=False\n",
    "\n",
    "if inputs['dpp_adjustment']==True:\n",
    "    calculations['payment_code']='DPP'\n",
    "    calculations['payment_type']='DPP'\n",
    "elif calculations['CARES Act Flag']:\n",
    "    calculations['payment_code']='CARES Act'\n",
    "    calculations['payment_type']='Standard'\n",
    "elif (inputs['severe_wound'] or inputs['spinal_cord']):    \n",
    "    calculations['payment_code']='Spinal/Wound'\n",
    "    calculations['payment_type']='Standard'\n",
    "elif inputs['ipps_claim']:\n",
    "    if (inputs['icu'] or inputs['ventilator']):\n",
    "        calculations['payment_code']='IPPS discharge with icu/ventilator'\n",
    "        calculations['payment_type']='Standard'\n",
    "    else:\n",
    "        calculations['payment_code']='IPPS discharge without icu/ventilator'\n",
    "        calculations['payment_type']='Site Neutral'\n",
    "else:\n",
    "    calculations['payment_code']='No IPPS discharge'\n",
    "    calculations['payment_type']='Site Neutral'\n",
    "\n",
    "{key: calculations[key] for key in ['admissions_date', 'valid_date', 'CARES Act Flag', 'payment_type', 'payment_code']}"
   ]
  },
  {
   "cell_type": "markdown",
   "metadata": {},
   "source": [
    "**<font color = red>Processing Step 2-</font>** Using cbsa code, logic is used to determine whether hospital is located in an urban or rural area. The cbsa code is also used to extract from the wage index dataframes the wage index and GAF factors for this particular case."
   ]
  },
  {
   "cell_type": "code",
   "execution_count": 548,
   "metadata": {},
   "outputs": [
    {
     "data": {
      "text/plain": [
       "{'urban/rural': 'urban',\n",
       " 'LTC Wage Index': 0.7832,\n",
       " 'IPPS Wage Index': 0.7796,\n",
       " 'IPPS GAF': 0.8432}"
      ]
     },
     "execution_count": 548,
     "metadata": {},
     "output_type": "execute_result"
    }
   ],
   "source": [
    "if len(inputs['cbsa'])==5:\n",
    "    calculations['urban/rural']= 'urban'\n",
    "else:\n",
    "    calculations['urban/rural']= 'rural'\n",
    "\n",
    "calculations['LTC Wage Index']=ltc_wage_index_df.loc[inputs['cbsa'],'Wage_Index']\n",
    "calculations['IPPS Wage Index']=ipps_wage_index_df.loc[inputs['cbsa']+inputs['state'],'WI']\n",
    "calculations['IPPS GAF']=ipps_wage_index_df.loc[inputs['cbsa']+inputs['state'],'GAF']\n",
    "\n",
    "{key: calculations[key] for key in ['urban/rural', 'LTC Wage Index', 'IPPS Wage Index', 'IPPS GAF']}"
   ]
  },
  {
   "cell_type": "markdown",
   "metadata": {},
   "source": [
    "**<font color = red>Processing Step 3-</font>** The DRG code is used to extract from the DRG dataframe the DRG title, weights, and average length of stay values."
   ]
  },
  {
   "cell_type": "code",
   "execution_count": 549,
   "metadata": {},
   "outputs": [
    {
     "data": {
      "text/plain": [
       "{'DRG Title': 'Nonspecific cerebrovascular disorders w MCC',\n",
       " 'DRG LTC Weight': 0.8629,\n",
       " 'DRG Case Count': 162,\n",
       " 'LTC Geometric ALS': 23.0,\n",
       " 'SSO Day Threshold': 19.2,\n",
       " 'DRG IPPS Weight': 1.6729,\n",
       " 'IPPS Geometric ALS': 4.5}"
      ]
     },
     "execution_count": 549,
     "metadata": {},
     "output_type": "execute_result"
    }
   ],
   "source": [
    "calculations['DRG Title']=drg_df.loc[inputs['DRG'],'MS-LTC-DRG_Title']\n",
    "calculations['DRG LTC Weight']=drg_df.loc[inputs['DRG'],'LTC_Relative_Weight']\n",
    "calculations['DRG Case Count']=drg_df.loc[inputs['DRG'],'FY2018_LTCH_Cases']\n",
    "calculations['LTC Geometric ALS']=drg_df.loc[inputs['DRG'],'LTC_Geometric_Average_LOS']\n",
    "calculations['SSO Day Threshold']=drg_df.loc[inputs['DRG'],'LTC_SSO_Threshold']\n",
    "calculations['DRG IPPS Weight']=drg_df.loc[inputs['DRG'],'IPPS_Relative_Weight']\n",
    "calculations['IPPS Geometric ALS']=drg_df.loc[inputs['DRG'],'IPPS_Geometric_Average_LOS']\n",
    "\n",
    "{key: calculations[key] for key in ['DRG Title', 'DRG LTC Weight', 'DRG Case Count', 'LTC Geometric ALS',\n",
    "                                         'SSO Day Threshold', 'DRG IPPS Weight','IPPS Geometric ALS']}"
   ]
  },
  {
   "cell_type": "markdown",
   "metadata": {},
   "source": [
    "--------------\n",
    "# Calculations\n",
    "--------------\n",
    "## <font color = green>LTCH Standard Rate Calculations Steps</font> \n",
    "<br>\n",
    "<br>\n",
    "* A hospital that meets quality requirements will receive the full standard rate, while a hospital that does not meet quality requirements will receive a reduced standard rate. The rate a hospital receives is divided into a labor share and non labor share.\n",
    "\n",
    "(1) **Labor Share of Standard Rate** = Standard Rate * Labor Share\n",
    "\n",
    "(2) **Non Labor Share of Standard Rate** = Standard Rate * (1-Labor Share)"
   ]
  },
  {
   "cell_type": "code",
   "execution_count": 550,
   "metadata": {},
   "outputs": [
    {
     "data": {
      "text/plain": [
       "{'Labor Share of Standard Rate': 28295.28,\n",
       " 'Non Labor Share of Standard Rate': 14382.36}"
      ]
     },
     "execution_count": 550,
     "metadata": {},
     "output_type": "execute_result"
    }
   ],
   "source": [
    "if inputs['quality_indicator']==True:\n",
    "    calculations['Labor Share of Standard Rate']=sasround(rates['Full Standard Rate']*rates['Labor Share']/100,2)\n",
    "    calculations['Non Labor Share of Standard Rate']=sasround(rates['Full Standard Rate']*rates['Non Labor Share']/100,2)\n",
    "else:\n",
    "    calculations['Labor Share of Standard Rate']=sasround(rates['Reduced Standard Rate']*rates['Labor Share']/100,2)\n",
    "    calculations['Non Labor Share of Standard Rate']=sasround(rates['Reduced Standard Rate']*rates['Non Labor Share']/100,2)\n",
    "\n",
    "{key: calculations[key] for key in ['Labor Share of Standard Rate', 'Non Labor Share of Standard Rate']}"
   ]
  },
  {
   "cell_type": "markdown",
   "metadata": {},
   "source": [
    "<br>\n",
    "* The labor share of the standard rate is adjusted by a wage index based on the hospitals location. Similarly the non labor share of the standard rate is adjusted by a cost of living adjustment (COLA) factor. Note the COLA factor is equal to 1 for all hospitals outside of Hawaii and Alaska. The adjusted labor share portion of the standard rate is added to the adjusted non labor share portion of the standard rate to arrive at a 'Geography Adjusted' standard rate value.\n",
    "\n",
    "(3) **Wage Adjusted Labor Share of Standard Rate** = Labor Share of Standard Rate@1 * Wage Index\n",
    "\n",
    "(4) **COLA Adjusted Non Labor Share of Standard Rate** = Non Labor Share of Standard Rate@2 * COLA Factor\n",
    "\n",
    "(5) **Geography Adjusted Standard Rate** = Wage Adjusted Labor Share of Standard Rate@3 + COLA Adjusted Non Labor Share of Standard Rate@4\n"
   ]
  },
  {
   "cell_type": "code",
   "execution_count": 551,
   "metadata": {},
   "outputs": [
    {
     "data": {
      "text/plain": [
       "{'Wage Adjusted Labor Share of Standard Rate': 22160.86,\n",
       " 'COLA Adjusted Non Labor Share of Standard Rate': 14382.36,\n",
       " 'Geography Adjusted Standard Rate': 36543.22}"
      ]
     },
     "execution_count": 551,
     "metadata": {},
     "output_type": "execute_result"
    }
   ],
   "source": [
    "calculations['Wage Adjusted Labor Share of Standard Rate']=sasround(calculations['LTC Wage Index']\n",
    "                                                                    *calculations['Labor Share of Standard Rate'],2)\n",
    "\n",
    "calculations['COLA Adjusted Non Labor Share of Standard Rate']=sasround(inputs['cola']*\n",
    "                                                                        calculations['Non Labor Share of Standard Rate'],2)\n",
    "\n",
    "calculations['Geography Adjusted Standard Rate']=sasround(calculations['COLA Adjusted Non Labor Share of Standard Rate']+\n",
    "                                                  calculations['Wage Adjusted Labor Share of Standard Rate'],2)\n",
    "\n",
    "{key: calculations[key] for key in ['Wage Adjusted Labor Share of Standard Rate', \n",
    "                                    'COLA Adjusted Non Labor Share of Standard Rate', 'Geography Adjusted Standard Rate']}"
   ]
  },
  {
   "cell_type": "markdown",
   "metadata": {},
   "source": [
    "<br>\n",
    "* The final step in calculating the standard payment is to multiply by the geography adjusted standard rate by the weight associated with the MS-DRG assigned to the case.\n",
    "\n",
    "(6) **DRG Adjusted Standard Rate** = Geography Adjusted Standard Rate@5 * DRG Weight"
   ]
  },
  {
   "cell_type": "code",
   "execution_count": 552,
   "metadata": {},
   "outputs": [
    {
     "data": {
      "text/plain": [
       "{'DRG Adjusted Standard Rate': 31533.14}"
      ]
     },
     "execution_count": 552,
     "metadata": {},
     "output_type": "execute_result"
    }
   ],
   "source": [
    "calculations['DRG Adjusted Standard Rate']=sasround(calculations['Geography Adjusted Standard Rate']*\n",
    "                                                  calculations['DRG LTC Weight'],2)\n",
    "{key: calculations[key] for key in ['DRG Adjusted Standard Rate']}"
   ]
  },
  {
   "cell_type": "markdown",
   "metadata": {},
   "source": [
    "-----------------------------\n",
    "## <font color = purple>IPPS Comparable Rate Calculations Steps</font> \n",
    "\n",
    "An IPPS comparable rate will be used in the payment calculation if either of the following are true. This program will calculate the IPPS comparable rate for all cases. Later on in the program, logic will be used to decide whether this value is used in the final calculation.\n",
    "\n",
    "1. This case qualifies for the LTCH Standard rate but is a short stay outlier\n",
    "2. This case does not qualify for the LTCH Standard rate and will instead receive the site neutral payment.\n",
    "\n",
    "### <font color = purple>DSH Calculations </font>"
   ]
  },
  {
   "cell_type": "markdown",
   "metadata": {},
   "source": [
    "* IPPS hospitals that qualifies as a Medicare Disproportionate Share Hospital (DSH) will receive an add on payment. Whether a hospital qualifies is dependent on its disproportiate share percentage, which is calculated by adding the percentage of Medicare inpatient days attributable to patients entitled to both Medicare Part A and Supplemental Security Income (SSI) and the percentage of total inpatient days attributable to patients eligible for Medicaid but not eligible for Medicare Part A. The two percentages that are added together are an input to the program and therefore not calculated here.\n",
    "\n",
    "(7) **Disproportionate Share Percentage** = $\\frac{Medicare SSI Days}{Total Medicare Days} + \\frac{Medicaid, Nonmedicare Days}{Total Patient Days}$"
   ]
  },
  {
   "cell_type": "code",
   "execution_count": 553,
   "metadata": {},
   "outputs": [
    {
     "data": {
      "text/plain": [
       "{'DSH Pct': 0.154}"
      ]
     },
     "execution_count": 553,
     "metadata": {},
     "output_type": "execute_result"
    }
   ],
   "source": [
    "calculations['DSH Pct']=inputs['ssi_pct']+inputs['mcd_pct']\n",
    "{key: calculations[key] for key in ['DSH Pct']}"
   ]
  },
  {
   "cell_type": "markdown",
   "metadata": {},
   "source": [
    "<br>\n",
    "* Separate disproportionate share adjustment factors are calculated for operating payments and capital payments.\n",
    "\n",
    "\n",
    "* For operating payments to qualify for a DSH adjustment, the DSH percentage must be greater than or equal to 15%. If greater than or equal to 15%, the DSH percentage is adjusted by a formula dependent on whether the DSH percentage exceeds 20.2%. The result is multiplied by the uncompensated care payment (UCP) reduction factor which is set in the rules.\n",
    "<br>\n",
    "\n",
    "*If 15% <= Disproportionate Share Percentage@7 <= 20.2% then*\n",
    "\n",
    "(8)  **DSH Operating Pct Raw Adjustment**= [.025 + [0.65 * (Disproportionate Share Percentage@7 – 0.15)]] * UCP Reduction Factor\n",
    "\n",
    "\n",
    "*If Disproportionate Share Percentage@7 > 20.2% then*\n",
    "\n",
    "(8) **DSH Operating Pct Raw Adjustment**= [.0588 + [0.825 * (Disproportionate Share Percentage@7 – 0.202)]] * UCP Reduction Factor"
   ]
  },
  {
   "cell_type": "code",
   "execution_count": 554,
   "metadata": {},
   "outputs": [
    {
     "data": {
      "text/plain": [
       "{'DSH Operating Pct Raw Adjustment': 0.0208}"
      ]
     },
     "execution_count": 554,
     "metadata": {},
     "output_type": "execute_result"
    }
   ],
   "source": [
    "if (calculations['DSH Pct']>=.15 and calculations['DSH Pct']<=.202):\n",
    "    calculations['DSH Operating Pct Raw Adjustment']=sasround((.025+(.65*(calculations['DSH Pct']-.15)))*\n",
    "                                                    rates['IPPS UCP Reduction Factor'],4)\n",
    "elif calculations['DSH Pct']>.202:\n",
    "    calculations['DSH Operating Pct Raw Adjustment']=sasround((.0588+(.825*(calculations['DSH Pct']-.202)))*\n",
    "                                                    rates['IPPS UCP Reduction Factor'],4)\n",
    "else:\n",
    "    calculations['DSH Operating Pct Raw Adjustment']=0\n",
    "    \n",
    "{key: calculations[key] for key in ['DSH Operating Pct Raw Adjustment']}"
   ]
  },
  {
   "cell_type": "markdown",
   "metadata": {},
   "source": [
    "<br>\n",
    "* Depending on a hospital's urban/rural classification and the hospital's number of beds, the DSH Operating Adjustment factor may be capped. If both of the following conditions are met:\n",
    "\n",
    "    1. urban with < 100 beds or rural with < 500 beds\n",
    "    2. DSH Operating Pct Raw Adjustment@8 > 12% * UCP Reduction Factor\n",
    "\n",
    "  (9) **DSH Operating Pct Capped**= .12 * UCP Adjustment Factor\n",
    "  \n",
    " Otherwise\n",
    " \n",
    "  (9) **DSH Operating Pct Capped**= DSH Operating Pct Raw Adjustment@8\n",
    "\n"
   ]
  },
  {
   "cell_type": "code",
   "execution_count": 555,
   "metadata": {},
   "outputs": [
    {
     "data": {
      "text/plain": [
       "{'DSH Operating Cap Indicator': False, 'DSH Operating Pct Capped': 0.0208}"
      ]
     },
     "execution_count": 555,
     "metadata": {},
     "output_type": "execute_result"
    }
   ],
   "source": [
    "if (calculations['urban/rural']=='urban' and inputs['beds']<100) or (calculations['urban/rural']=='rural' \n",
    "                                                                     and inputs['beds']<500):\n",
    "    if calculations['DSH Operating Pct Raw Adjustment']>sasround(.12*rates['IPPS UCP Reduction Factor'],4):\n",
    "        calculations['DSH Operating Cap Indicator']=True\n",
    "        calculations['DSH Operating Pct Capped']=sasround(.12*rates['IPPS UCP Reduction Factor'],4)\n",
    "    else:\n",
    "        calculations['DSH Operating Cap Indicator']=False\n",
    "        calculations['DSH Operating Pct Capped']=calculations['DSH Operating Pct Raw Adjustment']\n",
    "else:\n",
    "    calculations['DSH Operating Cap Indicator']=False\n",
    "    calculations['DSH Operating Pct Capped']=calculations['DSH Operating Pct Raw Adjustment']\n",
    "\n",
    "{key: calculations[key] for key in ['DSH Operating Cap Indicator','DSH Operating Pct Capped']}"
   ]
  },
  {
   "cell_type": "markdown",
   "metadata": {},
   "source": [
    "<br>\n",
    "* Only urban hospitals with greater than or equal to 100 beds qualify for a capital DSH payment. The capital adjustment factor is calculated using the formula below.\n",
    "\n",
    "If hospital is urban with >=100 beds:\n",
    "\n",
    "(10)**DSH Capital Pct** = exp(Disproportionate Share Percentage@7 * 0.2025)-1\n",
    "\n",
    "else:\n",
    "\n",
    "(10) **DSH Capital Pct**=0 "
   ]
  },
  {
   "cell_type": "code",
   "execution_count": 556,
   "metadata": {},
   "outputs": [
    {
     "data": {
      "text/plain": [
       "{'DSH Capital Pct': 0}"
      ]
     },
     "execution_count": 556,
     "metadata": {},
     "output_type": "execute_result"
    }
   ],
   "source": [
    "if (calculations['urban/rural']=='urban' and inputs['beds']>=100):\n",
    "    calculations['DSH Capital Pct']=sasround(math.exp(calculations['DSH Pct']*.2025)-1,4)\n",
    "else:\n",
    "    calculations['DSH Capital Pct']=0\n",
    "\n",
    "{key: calculations[key] for key in ['DSH Capital Pct']}"
   ]
  },
  {
   "cell_type": "markdown",
   "metadata": {},
   "source": [
    "<br>\n",
    "\n",
    "### <font color = purple>IME Calculations</font> \n",
    "* Hospitals that have residents in an approved graduate medical education (GME) program receive an additional payment. The indirect medical education (IME) adjustment is calculating differenly for operating payments and capital payments. The two formulas can be found below. The operating IME adjustment relies on the ratio of residents to beds which is calculated outside this program. The capital IME adjustment relies on the ratio of residents to average daily census which is also calculated outside this program.\n",
    "\n",
    "(11) **Operating IME ADjustment** = $[(1 + \\frac{residents}{beds})^.405-1]*1.35$\n",
    "\n",
    "(12) **Capital IME ADjustment** = $exp[(\\frac{residents}{average daily census})*.2822]-1$"
   ]
  },
  {
   "cell_type": "code",
   "execution_count": 557,
   "metadata": {},
   "outputs": [
    {
     "data": {
      "text/plain": [
       "{'Operating IME Adjustment': 0.0, 'Capital IME Adjustment': 0.0}"
      ]
     },
     "execution_count": 557,
     "metadata": {},
     "output_type": "execute_result"
    }
   ],
   "source": [
    "calculations['Operating IME Adjustment']=sasround(((((1+inputs['ipps_residents_to_beds_ratio'])**0.405)-1)*1.35),9)\n",
    "calculations['Capital IME Adjustment']=sasround(math.exp(0.2822*inputs['ipps_residents_to_adc_ratio'])-1,9)\n",
    "\n",
    "{key: calculations[key] for key in ['Operating IME Adjustment','Capital IME Adjustment']}"
   ]
  },
  {
   "cell_type": "markdown",
   "metadata": {},
   "source": [
    "<br>\n",
    "\n",
    "### <font color = purple>Final IPPS Calculations</font> \n",
    "\n",
    "* Now that the DSH and IME factors have been prepared, a final IPPS amount is ready to be calculated. The program calculates the operating amount and capital amount separately, than adds them together to calculate the full amount.\n",
    "\n",
    "\n",
    "* The base rates used in the calculation of the operating amount are different depending on whether the hospitals comparable IPPS wage index is greater than 1. This is the result of the labor share being applied to the full base rate being different depding on whether the wage index is greater than 1. The operating formula is shown below:\n",
    "\n",
    "(13) **IPPS Unadjusted Operating Amount** = [(IPPS Operating Labor Rate * IPPS Wage Index) + (IPPS Operating Non-Labor Rate * COLA)] * IPPS DRG Weight\n",
    "\n",
    "\n",
    "(14) **IPPS DSH/IME Adjusted Operating Amount** = IPPS Unadjusted Operating Amount@13 * (1 + DSH Operating Pct Capped@9 + Operating IME Adjustment@11)"
   ]
  },
  {
   "cell_type": "code",
   "execution_count": 558,
   "metadata": {},
   "outputs": [
    {
     "data": {
      "text/plain": [
       "{'IPPS Operating Amount': 8546.22}"
      ]
     },
     "execution_count": 558,
     "metadata": {},
     "output_type": "execute_result"
    }
   ],
   "source": [
    "if calculations['IPPS Wage Index']>1:\n",
    "    calculations['IPPS Operating Amount']=sasround(\n",
    "        ((rates['IPPS Operating Labor Rate High']*calculations['IPPS Wage Index'])+\n",
    "         (rates['IPPS Operating Non-Labor Rate High']*inputs['cola']))*calculations['DRG IPPS Weight']*\n",
    "        (1+calculations['DSH Operating Pct Capped']+calculations['Operating IME Adjustment']),2)\n",
    "else:\n",
    "    calculations['IPPS Operating Amount']=sasround(\n",
    "        ((rates['IPPS Operating Labor Rate Low']*calculations['IPPS Wage Index'])+\n",
    "         (rates['IPPS Operating Non-Labor Rate Low']*inputs['cola']))*calculations['DRG IPPS Weight']*\n",
    "        (1+calculations['DSH Operating Pct Capped']+calculations['Operating IME Adjustment']),2)\n",
    "\n",
    "{key: calculations[key] for key in ['IPPS Operating Amount']}"
   ]
  },
  {
   "cell_type": "markdown",
   "metadata": {},
   "source": [
    "<br>\n",
    "* For the capital amount, an adjusted COLA factor is used in addition to the IPPS GAF. This formula compressesses the unadjusted COLA factors towards 1. The adjusted COLA factor is used along with the other factors to calculate the capital amount.\n",
    "\n",
    "(15) **IPPS Cola Cap** = [ 0.3152* (COLA - 1)]+1\n",
    "\n",
    "(16) **IPPS Unadjusted Capital Amount** = IPPS Capital Rate * IPPS GAF * IPPS Cola Cap@15 * IPPS DRG Weight\n",
    "\n",
    "(17) **IPPS DSH/IME Adjusted Capital Amount** = IPPS Unadjusted Operating Amount@16 * (1 + DSH Capital Pct@10 + Capital IME Adjustment@12)"
   ]
  },
  {
   "cell_type": "code",
   "execution_count": 559,
   "metadata": {},
   "outputs": [
    {
     "data": {
      "text/plain": [
       "{'IPPS Cola Cap': 1.0, 'IPPS Capital Amount': 652.16}"
      ]
     },
     "execution_count": 559,
     "metadata": {},
     "output_type": "execute_result"
    }
   ],
   "source": [
    "calculations['IPPS Cola Cap']=sasround(1+(0.3152*(inputs['cola']-1)),3)\n",
    "calculations['IPPS Capital Amount']=sasround(rates['IPPS Capital Rate']*calculations['DRG IPPS Weight']*\n",
    "                                             calculations['IPPS GAF']*calculations['IPPS Cola Cap']*\n",
    "                                             (1+calculations['DSH Capital Pct']+calculations['Capital IME Adjustment']),2)\n",
    "\n",
    "{key: calculations[key] for key in ['IPPS Cola Cap','IPPS Capital Amount']}"
   ]
  },
  {
   "cell_type": "markdown",
   "metadata": {},
   "source": [
    "The Final IPPS Amount is the less of the full IPPS Amount, calculated as the operating amount + the capital amount, and the IPPS per diem amount.\n",
    "\n",
    "(18) **Full IPPS Amount** = IPPS DSH/IME Adjusted Operating Amount@14 +  IPPS DSH/IME Adjusted Capital Amount@17\n",
    "\n",
    "(19) **PPS Per Diem Amount** = Full IPPS Amount@18 / IPPS Geometric ALS * LOS\n",
    "\n",
    "(20) **Final IPPS Comparable Amount** = Minimum (Full IPPS Amount@18, PPS Per Diem Amount@19)"
   ]
  },
  {
   "cell_type": "code",
   "execution_count": 560,
   "metadata": {},
   "outputs": [
    {
     "data": {
      "text/plain": [
       "{'Full IPPS Amount': 9198.38,\n",
       " 'IPPS Per Diem Amount': 34749.44,\n",
       " 'Final IPPS Comparable Amount': 9198.38}"
      ]
     },
     "execution_count": 560,
     "metadata": {},
     "output_type": "execute_result"
    }
   ],
   "source": [
    "calculations['Full IPPS Amount']=calculations['IPPS Operating Amount']+calculations['IPPS Capital Amount']\n",
    "calculations['IPPS Per Diem Amount']=sasround(calculations['Full IPPS Amount']/calculations['IPPS Geometric ALS']*\n",
    "                                      inputs['LOS'],2)\n",
    "calculations['Final IPPS Comparable Amount']=min(calculations['Full IPPS Amount'], calculations['IPPS Per Diem Amount'])\n",
    "\n",
    "{key: calculations[key] for key in ['Full IPPS Amount','IPPS Per Diem Amount', 'Final IPPS Comparable Amount']}"
   ]
  },
  {
   "cell_type": "markdown",
   "metadata": {},
   "source": [
    "-----------------------------\n",
    "## <font color = Teal>Short Stay Outlier Calculation</font> \n",
    "This section calculates the short stay outlier payment amount. This payment amount is only applicable to cases that are being paid the standard federal rate or the blended federal rate/site neutral rate which is set to expire in FY2020. Cases that are paid strictly the neutral rate are only based on the Final IPPS Comparable amount which already accounts for short stays by taking the lesser of the full IPPS amount and the IPPS per diem amount.\n",
    "\n",
    "Short stay outliers are paid a blended amount of the standard per diem amount (multipled by 1.2), and the Final IPPS amount. The blend is determined by the following formula (22) where SSO Day Threhold is equal to 5/6 of the geometric average length of stay for the given LTC-MS-DRG.\n",
    "\n",
    "(21) **Standard Per Diem Amount** = $\\frac{DRG Adjusted Standard Rate@6}{LTC Geometric ALS}*LOS*1.2$\n",
    "\n",
    "(22) **LTC Blend Pct** = $\\frac{LOS}{Min(25, SSO Day Threshold)}$ --> capped at 1"
   ]
  },
  {
   "cell_type": "code",
   "execution_count": 561,
   "metadata": {},
   "outputs": [
    {
     "data": {
      "text/plain": [
       "{'Standard Per Diem Amount': 27968.524173913043,\n",
       " 'LTC Blend Pct': 0.8854,\n",
       " 'IPPS Blend Pct': 0.11460000000000004}"
      ]
     },
     "execution_count": 561,
     "metadata": {},
     "output_type": "execute_result"
    }
   ],
   "source": [
    "calculations['Standard Per Diem Amount']=(calculations['DRG Adjusted Standard Rate']/calculations['LTC Geometric ALS']*\n",
    "                                              inputs['LOS']*1.2)\n",
    "\n",
    "calculations['LTC Blend Pct']=sasround(min(1,inputs['LOS']/min(25,calculations['SSO Day Threshold'])),4)\n",
    "calculations['IPPS Blend Pct']=1-calculations['LTC Blend Pct']\n",
    "\n",
    "{key: calculations[key] for key in ['Standard Per Diem Amount','LTC Blend Pct', 'IPPS Blend Pct']}"
   ]
  },
  {
   "cell_type": "markdown",
   "metadata": {},
   "source": [
    "The full short stay outlier blended amount is equal to the following:\n",
    "\n",
    "(23) **SSO Blend Amount** = (LTC Blend Pct@22 * Standard Per Diem Amount@21) + [(1-LTC Blend Pct@22 * Full IPPS Comparable Amount@20] \n",
    "\n",
    "Finally logic is used to determine whether a case had a short enough lenght of stay to qualify as a short stay outlier. As a reminder this calculation with be thrown away at the end for cases paid the full site neutral payment. If the case is a short stay outlier, than the final LTC standard base pay amount is equal to the SSO blend amount. Otherwise it is still equal to the DRG Adjusted Stanard Rate calculated in formula # 6.\n",
    "\n",
    "(24) If LOS <=SSO Day Threshold then **LTC PPS Standard Pay Amount** = SSO Blend Amount@23\n",
    "\n",
    "(24) If LOS > SSO Day Threshold then **LTC PPS Standard Pay Amount** = DRG Adjusted Standard Rate@6"
   ]
  },
  {
   "cell_type": "code",
   "execution_count": 562,
   "metadata": {},
   "outputs": [
    {
     "data": {
      "text/plain": [
       "{'LTC SSO Amount': 24763.331303582607,\n",
       " 'IPPS SSO Amount': 1054.1343480000003,\n",
       " 'SSO Blend Amount': 25817.465651582606,\n",
       " 'SSO Flag': True,\n",
       " 'LTC PPS Standard Pay Amount': 25817.465651582606}"
      ]
     },
     "execution_count": 562,
     "metadata": {},
     "output_type": "execute_result"
    }
   ],
   "source": [
    "calculations['LTC SSO Amount']=calculations['LTC Blend Pct']*calculations['Standard Per Diem Amount']\n",
    "calculations['IPPS SSO Amount']=calculations['IPPS Blend Pct']*calculations['Final IPPS Comparable Amount']\n",
    "calculations['SSO Blend Amount']=calculations['LTC SSO Amount']+calculations['IPPS SSO Amount']\n",
    "\n",
    "\n",
    "if inputs['LOS']<=calculations['SSO Day Threshold']:\n",
    "    calculations['SSO Flag']=True\n",
    "    calculations['LTC PPS Standard Pay Amount']=calculations['SSO Blend Amount']\n",
    "else:\n",
    "    calculations['SSO Flag']=False\n",
    "    calculations['LTC PPS Standard Pay Amount']=calculations['DRG Adjusted Standard Rate']\n",
    "\n",
    "{key: calculations[key] for key in ['LTC SSO Amount','IPPS SSO Amount', 'SSO Blend Amount',\n",
    "                                    'SSO Flag','LTC PPS Standard Pay Amount']} "
   ]
  },
  {
   "cell_type": "markdown",
   "metadata": {},
   "source": [
    "-----------------------------\n",
    "## <font color = maroon>Standard High Cost Outlier Calculation</font> \n",
    "This section covers the calculation of high cost outliers for cases that are being paid the standard rate or the blended rate. The first formula calculates the cost of the case by multiplying covered charges by the hospital's cost to charter ratio (CCR).\n",
    "\n",
    "(25) **Cost**= Charges * CCR\n",
    "\n",
    "Next the threshold for that determines whether a case is a high cost outlier is calculated as the calculated standard pay amount and a standard fixed loss threshold determined in the rules.\n",
    "\n",
    "(26) **LTC PPS Standard Outlier Threshold** = LTC PPS Standard Pay Amount@24 + Standard Fixed Loss Amount\n",
    "\n",
    "If the cost exceeds this threshold, an outlier payment is calculated at 80% of costs above threshold.\n",
    "\n",
    "(27) **Standard Outlier Payment** = (Cost@25 - LTC PPS Stanard Outlier Threshold@26) * 0.8 --> only when cost > threshold\n",
    "\n",
    "The total standard payment amount is equal to LTC PPS Standard Pay Amount plus the outlier payment.\n",
    "\n",
    "(28) **Total Standard Pay Amount** = LTC PPS Standard Pay Amount@24 + Standard Outlier Payment@27"
   ]
  },
  {
   "cell_type": "code",
   "execution_count": 563,
   "metadata": {},
   "outputs": [
    {
     "data": {
      "text/plain": [
       "{'Cost': 52345.00000000001,\n",
       " 'LTC PPS Standard Outlier Threshold': 52595.46565158261,\n",
       " 'Standard Outlier Payment Flag': False,\n",
       " 'Standard Outlier Payment': 0,\n",
       " 'Total Standard Pay Amount': 25817.465651582606}"
      ]
     },
     "execution_count": 563,
     "metadata": {},
     "output_type": "execute_result"
    }
   ],
   "source": [
    "calculations['Cost']=inputs['charges']*inputs['ccr']\n",
    "calculations['LTC PPS Standard Outlier Threshold']=calculations['LTC PPS Standard Pay Amount']+rates['Standard Fixed Loss']\n",
    "\n",
    "\n",
    "if calculations['Cost']>calculations['LTC PPS Standard Outlier Threshold']:\n",
    "    calculations['Standard Outlier Payment Flag']=True\n",
    "    calculations['Standard Outlier Payment']=(calculations['Cost']-calculations['LTC PPS Standard Outlier Threshold'])*.8\n",
    "else:\n",
    "    calculations['Standard Outlier Payment Flag']=False\n",
    "    calculations['Standard Outlier Payment']=0\n",
    "\n",
    "calculations['Total Standard Pay Amount']=(calculations['LTC PPS Standard Pay Amount']+\n",
    "                                           calculations['Standard Outlier Payment'])\n",
    "\n",
    "{key: calculations[key] for key in ['Cost','LTC PPS Standard Outlier Threshold', 'Standard Outlier Payment Flag',\n",
    "                                    'Standard Outlier Payment','Total Standard Pay Amount']} "
   ]
  },
  {
   "cell_type": "markdown",
   "metadata": {},
   "source": [
    "-----------------------------\n",
    "## <font color = deeppink>Site Neutral Calculation</font> \n",
    "This section covers the calculation and selection of the site neutral payment options.\n",
    "\n",
    "The first option avaialable is the calculation of the cases cost multiplied by the site neutral high cost outlier budget neutrality factor established in the rules.\n",
    "\n",
    "(29) **Site Neutral Cost Option** = Costs@25 * SN HCO BN Factor\n",
    "\n",
    "The second option available is an IPPS based amount. This is calculated in multiple steps.\n",
    "\n",
    "First the Final IPPS comparable amount is multiplied by the site neutral high cost budget neutrality factor established in the rules.\n",
    "\n",
    "(30) **Site Neutral IPPS Base Pay** = Final IPPS Comparable Amount@20  * SN HCO BN Factor\n",
    "\n",
    "Next a site neutral outlier threshold is established and compared against the cost to determine whether this case qualifies for a high cost outlier payment. Note that the Final IPPS Comparable amount is added to the fixed loss amount without the budget neutrality factor appplied.\n",
    "\n",
    "(31) **Site Neutral Outlier Thresholdhold** = Final IPPS Comparable Amount@20 + Site Neutral Fixed Loss Amount\n",
    "\n",
    "If the cost exceeds this threshold, an outlier payment is calculated at 80% of costs above threshold.\n",
    "\n",
    "(32) **Site Neutral Outlier Payment** = (Cost@25 - Site Neutral Outlier Threshold@31) * 0.8 --> only when cost > threshold\n",
    "\n",
    "The total Site Neutral IPPS Options is equal to to the Site Neutral IPPS Base Pay plus the Site Neutral Outlier Payment. THis amount is then multiplied by a Site Neutral IPPS Adjustment factor established in the rules.\n",
    "\n",
    "(33) **Site Neutral IPPS Option** = (Site Neutral IPPS Base Pay@30 + Site Neutral Outlier Payment@32) * SN IPPS Adjustment Factor\n",
    "\n",
    "The determined Site Neutral payment amount is the lesser of the two options:\n",
    "\n",
    "(34) **Total Site Neutral Amount** = Minimum of (Site Neutral Cost Option@29, Site Neutral IPPS Option @33)\n",
    "\n",
    "For hospitals that are still being paid a transition rate for site neutral cases, the transition amount is calculated as the average of the site neutral amount and the standard pay amount.\n",
    "\n",
    "(35) **Total Transition Amount** = (Total Standard Pay Amount@28 + Total Site Neutral Amount@34) / 2\n",
    "\n",
    "\n"
   ]
  },
  {
   "cell_type": "code",
   "execution_count": 564,
   "metadata": {},
   "outputs": [
    {
     "data": {
      "text/plain": [
       "{'Site Neutral Cost Option': 49675.41,\n",
       " 'Site Neutral IPPS Base Pay': 8729.26,\n",
       " 'Site Neutral Outlier Threshold': 35750.38,\n",
       " 'Site Neutral Outlier Payment Flag': True,\n",
       " 'Site Neutral Outlier Payment': 13275.7,\n",
       " 'Site Neutral IPPS Option': 20992.73,\n",
       " 'Site Neutral Selection': 'IPPS Option',\n",
       " 'Total Site Neutral Amount': 20992.73,\n",
       " 'Total Transition Amount': 23405.0978257913}"
      ]
     },
     "execution_count": 564,
     "metadata": {},
     "output_type": "execute_result"
    }
   ],
   "source": [
    "calculations['Site Neutral Cost Option']=sasround(calculations['Cost']*rates['SN HCO BN factor'],2)\n",
    "\n",
    "calculations['Site Neutral IPPS Base Pay']=sasround(calculations['Final IPPS Comparable Amount']*\n",
    "                                                    rates['SN HCO BN factor'],2)\n",
    "\n",
    "calculations['Site Neutral Outlier Threshold']=sasround(calculations['Final IPPS Comparable Amount']+\n",
    "                                                        rates['SN Fixed Loss'],2)\n",
    "\n",
    "if calculations['Cost']>calculations['Site Neutral Outlier Threshold']:\n",
    "    calculations['Site Neutral Outlier Payment Flag']=True\n",
    "    calculations['Site Neutral Outlier Payment']=sasround((calculations['Cost']-\n",
    "                                                           calculations['Site Neutral Outlier Threshold'])*.8,2)\n",
    "else:\n",
    "    calculations['Site Neutral Outlier Payment Flag']=False\n",
    "    calculations['Site Neutral Outlier Payment']=0\n",
    "\n",
    "    \n",
    "calculations['Site Neutral IPPS Option']=sasround((calculations['Site Neutral IPPS Base Pay']+\n",
    "                                          calculations['Site Neutral Outlier Payment'])*rates['SN IPPS Adjustment'],2)\n",
    "\n",
    "if calculations['Site Neutral Cost Option']<=calculations['Site Neutral IPPS Option']:\n",
    "    calculations['Site Neutral Selection']=\"Cost Option\"\n",
    "    calculations['Total Site Neutral Amount']=calculations['Site Neutral Cost Option']\n",
    "else:\n",
    "    calculations['Site Neutral Selection']=\"IPPS Option\"\n",
    "    calculations['Total Site Neutral Amount']=calculations['Site Neutral IPPS Option']\n",
    "\n",
    "calculations['Total Transition Amount']=(calculations['Total Standard Pay Amount']+\n",
    "                                         calculations['Total Site Neutral Amount'])/2\n",
    "\n",
    "{key: calculations[key] for key in ['Site Neutral Cost Option','Site Neutral IPPS Base Pay',\n",
    "                                    'Site Neutral Outlier Threshold', 'Site Neutral Outlier Payment Flag',\n",
    "                                    'Site Neutral Outlier Payment','Site Neutral IPPS Option','Site Neutral Selection',\n",
    "                                   'Total Site Neutral Amount', 'Total Transition Amount']} "
   ]
  },
  {
   "cell_type": "markdown",
   "metadata": {},
   "source": [
    "-----------------------------\n",
    "## <font color = slategray>DPP Calculation</font> \n",
    "This section covers the calculation of payments for hospitals under the DPP policy.\n",
    "\n",
    "The base payment for these cases is equal to the Final IPPS amount.\n",
    "\n",
    "(35) **DPP Base Pay**= Full IPPS Amount@18\n",
    "\n",
    "An outlier threshold is established by adding the IPPS SN fixed loss amount to the DPP Base pay.\n",
    "\n",
    "(36) **DPP Outlier Thresholdhold** = DPP Base Pay@20 + Site Neutral Fixed Loss Amount\n",
    "\n",
    "If the cost exceeds this threshold, an outlier payment is calculated at 80% of costs above threshold.\n",
    "\n",
    "(37) **DPP Outlier Payment** = (Cost@25 - DPP Outlier Threshold@31) * 0.8 --> only when cost > threshold\n",
    "\n",
    "The total DPP Payment is equal to to the DPP Base Pay plus the DPP Outlier Payment.\n",
    "\n",
    "(38) **DPP Total Payment** = DPP Base Pay@35 + DPP Outlier Payment@37"
   ]
  },
  {
   "cell_type": "code",
   "execution_count": 565,
   "metadata": {},
   "outputs": [
    {
     "data": {
      "text/plain": [
       "{'DPP Base Pay': 9198.38,\n",
       " 'DPP Outlier Threshold': 35750.38,\n",
       " 'DPP Outlier Payment Flag': True,\n",
       " 'DPP Outlier Payment': 13275.7,\n",
       " 'DPP Total Payment': 22474.08}"
      ]
     },
     "execution_count": 565,
     "metadata": {},
     "output_type": "execute_result"
    }
   ],
   "source": [
    "calculations['DPP Base Pay']=calculations['Full IPPS Amount']\n",
    "\n",
    "calculations['DPP Outlier Threshold']=sasround(calculations['DPP Base Pay']+ rates['SN Fixed Loss'],2)\n",
    "\n",
    "if calculations['Cost']>calculations['DPP Outlier Threshold']:\n",
    "    calculations['DPP Outlier Payment Flag']=True\n",
    "    calculations['DPP Outlier Payment']=sasround((calculations['Cost']-\n",
    "                                                           calculations['DPP Outlier Threshold'])*.8,2)\n",
    "else:\n",
    "    calculations['DPP Outlier Payment Flag']=False\n",
    "    calculations['DPP Outlier Payment']=0\n",
    "\n",
    "    \n",
    "calculations['DPP Total Payment']=sasround((calculations['DPP Base Pay'] + calculations['DPP Outlier Payment']),2)\n",
    "\n",
    "{key: calculations[key] for key in ['DPP Base Pay','DPP Outlier Threshold','DPP Outlier Payment Flag','DPP Outlier Payment',\n",
    "                                    'DPP Total Payment']}"
   ]
  },
  {
   "cell_type": "markdown",
   "metadata": {},
   "source": [
    "--------------\n",
    "# Final Payment Reporting\n",
    "\n",
    "The final payment amount is assigned based on payment type. The full calculation dictionary is printed."
   ]
  },
  {
   "cell_type": "code",
   "execution_count": 566,
   "metadata": {},
   "outputs": [],
   "source": [
    "if calculations['payment_type']=='Standard':\n",
    "    calculations['Final Payment']=calculations['Total Standard Pay Amount']\n",
    "    \n",
    "elif (calculations['payment_type']=='Site Neutral' and inputs['blend']==True):\n",
    "    calculations['Final Payment']=calculations['Total Transition Amount']\n",
    "\n",
    "elif (calculations['payment_type']=='Site Neutral' and inputs['blend']==False):\n",
    "    calculations['Final Payment']=calculations['Total Site Neutral Amount']\n",
    "elif calculations['payment_type']=='DPP':\n",
    "    calculations['Final Payment']=calculations['DPP Total Payment']"
   ]
  },
  {
   "cell_type": "code",
   "execution_count": 571,
   "metadata": {},
   "outputs": [
    {
     "data": {
      "text/plain": [
       "{'admissions_date': Timestamp('2020-04-27 00:00:00'),\n",
       " 'valid_date': True,\n",
       " 'CARES Act Flag': True,\n",
       " 'payment_code': 'CARES Act',\n",
       " 'payment_type': 'Standard',\n",
       " 'urban/rural': 'urban',\n",
       " 'LTC Wage Index': 0.7832,\n",
       " 'IPPS Wage Index': 0.7796,\n",
       " 'IPPS GAF': 0.8432,\n",
       " 'DRG Title': 'Nonspecific cerebrovascular disorders w MCC',\n",
       " 'DRG LTC Weight': 0.8629,\n",
       " 'DRG Case Count': 162,\n",
       " 'LTC Geometric ALS': 23.0,\n",
       " 'SSO Day Threshold': 19.2,\n",
       " 'DRG IPPS Weight': 1.6729,\n",
       " 'IPPS Geometric ALS': 4.5,\n",
       " 'Labor Share of Standard Rate': 28295.28,\n",
       " 'Non Labor Share of Standard Rate': 14382.36,\n",
       " 'Wage Adjusted Labor Share of Standard Rate': 22160.86,\n",
       " 'COLA Adjusted Non Labor Share of Standard Rate': 14382.36,\n",
       " 'Geography Adjusted Standard Rate': 36543.22,\n",
       " 'DRG Adjusted Standard Rate': 31533.14,\n",
       " 'DSH Pct': 0.154,\n",
       " 'DSH Operating Pct Raw Adjustment': 0.0208,\n",
       " 'DSH Operating Cap Indicator': False,\n",
       " 'DSH Operating Pct Capped': 0.0208,\n",
       " 'DSH Capital Pct': 0,\n",
       " 'Operating IME Adjustment': 0.0,\n",
       " 'Capital IME Adjustment': 0.0,\n",
       " 'IPPS Operating Amount': 8546.22,\n",
       " 'IPPS Cola Cap': 1.0,\n",
       " 'IPPS Capital Amount': 652.16,\n",
       " 'Full IPPS Amount': 9198.38,\n",
       " 'IPPS Per Diem Amount': 34749.44,\n",
       " 'Final IPPS Comparable Amount': 9198.38,\n",
       " 'Standard Per Diem Amount': 27968.524173913043,\n",
       " 'LTC Blend Pct': 0.8854,\n",
       " 'IPPS Blend Pct': 0.11460000000000004,\n",
       " 'LTC SSO Amount': 24763.331303582607,\n",
       " 'IPPS SSO Amount': 1054.1343480000003,\n",
       " 'SSO Blend Amount': 25817.465651582606,\n",
       " 'SSO Flag': True,\n",
       " 'LTC PPS Standard Pay Amount': 25817.465651582606,\n",
       " 'Cost': 52345.00000000001,\n",
       " 'LTC PPS Standard Outlier Threshold': 52595.46565158261,\n",
       " 'Standard Outlier Payment Flag': False,\n",
       " 'Standard Outlier Payment': 0,\n",
       " 'Total Standard Pay Amount': 25817.465651582606,\n",
       " 'Site Neutral Cost Option': 49675.41,\n",
       " 'Site Neutral IPPS Base Pay': 8729.26,\n",
       " 'Site Neutral Outlier Threshold': 35750.38,\n",
       " 'Site Neutral Outlier Payment Flag': True,\n",
       " 'Site Neutral Outlier Payment': 13275.7,\n",
       " 'Site Neutral IPPS Option': 20992.73,\n",
       " 'Site Neutral Selection': 'IPPS Option',\n",
       " 'Total Site Neutral Amount': 20992.73,\n",
       " 'Total Transition Amount': 23405.0978257913,\n",
       " 'DPP Base Pay': 9198.38,\n",
       " 'DPP Outlier Threshold': 35750.38,\n",
       " 'DPP Outlier Payment Flag': True,\n",
       " 'DPP Outlier Payment': 13275.7,\n",
       " 'DPP Total Payment': 22474.08,\n",
       " 'Final Payment': 25817.465651582606}"
      ]
     },
     "execution_count": 571,
     "metadata": {},
     "output_type": "execute_result"
    }
   ],
   "source": [
    "calculations"
   ]
  }
 ],
 "metadata": {
  "kernelspec": {
   "display_name": "Python 3",
   "language": "python",
   "name": "python3"
  },
  "language_info": {
   "codemirror_mode": {
    "name": "ipython",
    "version": 3
   },
   "file_extension": ".py",
   "mimetype": "text/x-python",
   "name": "python",
   "nbconvert_exporter": "python",
   "pygments_lexer": "ipython3",
   "version": "3.7.4"
  }
 },
 "nbformat": 4,
 "nbformat_minor": 2
}
